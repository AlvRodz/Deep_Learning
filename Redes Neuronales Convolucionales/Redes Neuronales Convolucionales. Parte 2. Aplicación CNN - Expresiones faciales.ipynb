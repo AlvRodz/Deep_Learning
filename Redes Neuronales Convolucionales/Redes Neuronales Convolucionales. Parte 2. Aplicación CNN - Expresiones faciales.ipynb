{
 "cells": [
  {
   "cell_type": "markdown",
   "metadata": {},
   "source": [
    "# DEEP LEARNING PARA EL ANÁLISIS DE IMÁGENES"
   ]
  },
  {
   "cell_type": "markdown",
   "metadata": {},
   "source": [
    "# PARTE 2: Aplicación CNN, Reconocimiento de expresiones faciales "
   ]
  },
  {
   "cell_type": "markdown",
   "metadata": {},
   "source": [
    "Machine Learning - Master en Data Science CUNEF\n",
    "\n",
    "Gerardo Ramis y Álvaro Rodríguez"
   ]
  },
  {
   "cell_type": "markdown",
   "metadata": {},
   "source": [
    "## 1) Objetivos"
   ]
  },
  {
   "cell_type": "markdown",
   "metadata": {},
   "source": [
    "Este documento pretende servir de aplicación de los conceptos expuestos en la parte 1, aplicando modelos con más capas sobre datasets más complejos."
   ]
  },
  {
   "cell_type": "markdown",
   "metadata": {},
   "source": [
    "## 2) Datos"
   ]
  },
  {
   "cell_type": "markdown",
   "metadata": {},
   "source": [
    "Los datos consisten en imágenes en escala de grises de 48x48 píxeles de caras. Las caras se han registrado automáticamente para que la cara esté más o menos centrada y ocupe aproximadamente la misma cantidad de espacio en cada imagen. La tarea es categorizar cada rostro según la emoción mostrada en la expresión facial en una de las siete categorías (0 = Cabreo, 1 = Disgusto, 2 = Miedo, 3 = Felicidad, 4 = Tristeza, 5 = Sorpresa, 6 = Neutral).\n",
    "\n",
    "train.csv contiene dos columnas, \"emoción\" y \"píxeles\". La columna \"emoción\" contiene un código numérico que va de 0 a 6, inclusive, para la emoción que está presente en la imagen. La columna \"píxeles\" contiene una cadena rodeada de comillas para cada imagen. El contenido de esta cadena es un valor de píxeles separados por espacios en el orden mayor de la fila. test.csv contiene solo la columna \"píxeles\" y su tarea es predecir la columna de emoción.\n",
    "\n",
    "El conjunto de entrenamiento consta de 28.709 ejemplos. El conjunto de pruebas públicas utilizado para la tabla de clasificación consta de 3.589 ejemplos.\n",
    "\n",
    "Este conjunto de datos fue preparado por Pierre-Luc Carrier y Aaron Courville, como parte de un proyecto de investigación y conforme a tales datos se creó una competición en Kaggle."
   ]
  },
  {
   "cell_type": "markdown",
   "metadata": {},
   "source": [
    "#### a) Paquetes "
   ]
  },
  {
   "cell_type": "code",
   "execution_count": 41,
   "metadata": {},
   "outputs": [],
   "source": [
    "from __future__ import print_function\n",
    "import numpy as np\n",
    "import pandas as pd\n",
    "import tensorflow as tf\n",
    "from tensorflow.python.keras.models import Sequential\n",
    "from tensorflow.python.keras.layers import Dense , Activation , Dropout ,Flatten\n",
    "from tensorflow.python.keras.layers.convolutional import Conv2D\n",
    "from tensorflow.python.keras.layers.convolutional import MaxPooling2D\n",
    "from tensorflow.python.keras.metrics import categorical_accuracy\n",
    "from tensorflow.python.keras.models import model_from_json\n",
    "from sklearn.model_selection import train_test_split\n",
    "\n",
    "\n",
    "from tensorflow.python.keras.optimizers import *\n",
    "from tensorflow.python.keras.layers.normalization import BatchNormalization\n",
    "import matplotlib.pyplot as plt\n",
    "from sklearn.metrics import confusion_matrix\n",
    "import itertools\n"
   ]
  },
  {
   "cell_type": "markdown",
   "metadata": {},
   "source": [
    "#### b) Importación de datos"
   ]
  },
  {
   "cell_type": "code",
   "execution_count": 4,
   "metadata": {},
   "outputs": [],
   "source": [
    "# Importamos la información\n",
    "\n",
    "ruta = 'fer2013/fer2013.csv'\n",
    "emociones = ['Anger', 'Disgust', 'Fear', 'Happy', 'Sad', 'Surprise', 'Neutral']\n",
    "\n",
    "def importardatos(ruta):\n",
    "    # images are 48x48\n",
    "    # N = 35887\n",
    "    Y = []\n",
    "    X = []\n",
    "    first = True\n",
    "    for line in open(ruta):\n",
    "        if first:\n",
    "            first = False\n",
    "        else:\n",
    "            row = line.split(',')\n",
    "            Y.append(int(row[0]))\n",
    "            X.append([int(p) for p in row[1].split()])\n",
    "\n",
    "    X, Y = np.array(X) / 255.0, np.array(Y)\n",
    "    return X, Y\n",
    "\n",
    "\n",
    "X, Y = importardatos(ruta)\n",
    "num_class = len(set(Y))\n"
   ]
  },
  {
   "cell_type": "code",
   "execution_count": 5,
   "metadata": {},
   "outputs": [
    {
     "data": {
      "text/plain": [
       "(35887, 2304)"
      ]
     },
     "execution_count": 5,
     "metadata": {},
     "output_type": "execute_result"
    }
   ],
   "source": [
    "# Muestra de entrenamiento\n",
    "X.shape\n"
   ]
  },
  {
   "cell_type": "code",
   "execution_count": 6,
   "metadata": {
    "scrolled": true
   },
   "outputs": [
    {
     "data": {
      "text/plain": [
       "(35887,)"
      ]
     },
     "execution_count": 6,
     "metadata": {},
     "output_type": "execute_result"
    }
   ],
   "source": [
    "# Muestra de Test\n",
    "Y.shape"
   ]
  },
  {
   "cell_type": "markdown",
   "metadata": {},
   "source": [
    "#### c) Muestras de entrenamiento, validación y test"
   ]
  },
  {
   "cell_type": "code",
   "execution_count": 10,
   "metadata": {},
   "outputs": [],
   "source": [
    "# keras con backend tensorflow\n",
    "N, D = X.shape\n",
    "X = X.reshape(N, 48, 48, 1)\n",
    "\n",
    "# dividimos en set de entrenamiento, validación y test. Proporciones 80:10:10\n",
    "X_train, X_test, y_train, y_test = train_test_split(X, Y, test_size=0.1, random_state=0)\n",
    "y_train = (np.arange(num_class) == y_train[:, None]).astype(np.float32)\n",
    "y_test = (np.arange(num_class) == y_test[:, None]).astype(np.float32)\n",
    "\n",
    "X_train = tf.keras.utils.normalize(X_train, axis=1)\n",
    "X_test = tf.keras.utils.normalize(X_test, axis=1)"
   ]
  },
  {
   "cell_type": "markdown",
   "metadata": {},
   "source": [
    "#### d) Análisis exploratorio de los datos\n"
   ]
  },
  {
   "cell_type": "markdown",
   "metadata": {},
   "source": [
    "- Balanceo de la muestra"
   ]
  },
  {
   "cell_type": "code",
   "execution_count": 7,
   "metadata": {},
   "outputs": [],
   "source": [
    "\n",
    "# Vemos el numero de muestra de entrenamiento por cada emoción\n",
    "def balance_clases(Y):\n",
    "    num_class = set(Y)\n",
    "    count_class = {}\n",
    "    for i in range(len(num_class)):\n",
    "        count_class[i] = sum([1 for y in Y if y == i])\n",
    "    return count_class\n",
    "\n",
    "balance = balance_clases(Y)\n"
   ]
  },
  {
   "cell_type": "code",
   "execution_count": 8,
   "metadata": {
    "scrolled": true
   },
   "outputs": [
    {
     "data": {
      "text/plain": [
       "{0: 4953, 1: 547, 2: 5121, 3: 8989, 4: 6077, 5: 4002, 6: 6198}"
      ]
     },
     "execution_count": 8,
     "metadata": {},
     "output_type": "execute_result"
    }
   ],
   "source": [
    "# La caras de disgusto son escasas en comparación con el resto\n",
    "balance"
   ]
  },
  {
   "cell_type": "markdown",
   "metadata": {},
   "source": [
    "- Imagenes contenidas en el dataset"
   ]
  },
  {
   "cell_type": "code",
   "execution_count": 11,
   "metadata": {},
   "outputs": [
    {
     "data": {
      "image/png": "[encoded data removed]",
      "text/plain": [
       "<Figure size 864x432 with 12 Axes>"
      ]
     },
     "metadata": {
      "needs_background": "light"
     },
     "output_type": "display_data"
    }
   ],
   "source": [
    "plt.figure(0, figsize=(12,6))\n",
    "for i in range(1, 13):\n",
    "   plt.subplot(3,4,i)\n",
    "   plt.imshow(X_train[i, :, :, 0], cmap=\"gray\")\n",
    "\n",
    "plt.tight_layout()\n",
    "plt.show()"
   ]
  },
  {
   "cell_type": "markdown",
   "metadata": {},
   "source": [
    "## 3) PROCEDIMIENTO"
   ]
  },
  {
   "cell_type": "markdown",
   "metadata": {},
   "source": [
    "La estructura de la CNN planteada en este notebook es la siguiente:\n",
    "\n",
    " - **(Convolución & Pooling) x 4** \n",
    " \n",
    " - **Flatten** \n",
    " \n",
    " - **Red densamente conectada x 2** \n",
    " \n",
    " - **Resultado**\n",
    "\n",
    "El modelo está compuesto por cuatro capas convolucionales, una capa de aplanado y, finalmente, dos capas Fully Connected."
   ]
  },
  {
   "cell_type": "markdown",
   "metadata": {},
   "source": [
    "## 4) MODELO"
   ]
  },
  {
   "cell_type": "markdown",
   "metadata": {},
   "source": [
    "### A) Convolución\n",
    "\n",
    "Para este modelo se ha configurado la capa Convnet inicial para procesar entradas de tamaño (48, 48, 1) a travel del argumento input_shape. 48x48 indica la dimensión de la imagen en pixeles mientras que el número uno corresponde al color, escala de grises.\n",
    "\n",
    "Recordamos que las capas convolucionales se definen en base a dos parametros: El de los parches extraidos y la cantidad de filtros calculados por convolción. Los parámetros dados a este modelo, compuesto de 4 convolutional layers son (filtros, tamaño parche):\n",
    "\n",
    " - Primera capa: (64, 3x3)\n",
    " - Segunda capa: (128, 5x5)\n",
    " - Tercera capa: (512, 3x3)\n",
    " - Cuarta capa: (512, 3x3)\n",
    " \n",
    "**Relu** ha sido La función de activación no lineal usada en cada una de las capa convolucionales."
   ]
  },
  {
   "cell_type": "markdown",
   "metadata": {},
   "source": [
    "### B) Pooling (reducción)\n",
    "\n",
    "Para este modelo se han añadido, a cada una de las capas convolucionales, cuatro submuestreos maxp-pooling de ventanas 2x2 con el objetivo de reducir la muestras de los mapas de características.\n",
    "\n",
    "El resultado es que para cada una de las capas de convolucionales, los inputs de entrada han sido reducidos a la mitad:\n",
    "\n",
    " - Primera capa: input_shape(48x48x1), conv2D(48x48x64), **max-pooling(2x2)** la transforma a **(24x24x64)** que será la que reciba la siguiente capa. \n",
    " - Segunda capa: input_shape(24x24x64), conv2D(24x24x128), **max-pooling(2x2)** la transforma a **(12x12x64)**.\n",
    " - Tercera capa: input_shape(12x12x64), conv2D(12x12x512), **max-pooling(2x2)** la transforma a **(6x6x512)**.\n",
    " - Cuarta capa: input_shape(6x6x512), conv2D(6x6x512), **max-pooling(2x2)** la transforma a **(3x3x512)**."
   ]
  },
  {
   "cell_type": "markdown",
   "metadata": {},
   "source": [
    "### C) Red Densamente Conectada\n",
    "\n",
    "Este modelo, como hemos señalado anteriormente, consta de **dos capas densamente conectadas (Dense)**. En este tipo de capas, todos los nodos estás completamente conectados. \n",
    "\n",
    "Se lleva a cabo un proceso de unidimensionalidad de los tensores mediante la función **Flatten**. Este paso es fundamental para poder trabajar con las capas dense. Los tensores devuetos tras la última capa convolucional tienen dimensiones de 3x3x512 y, tras el aplanado con Flatten, pasan ser unidimensionales (1x4608).\n",
    "\n",
    "Se aplica una primera capa Dense con 256 unidades y una segunda con 512 unidades. La función de activación utilizada es relu."
   ]
  },
  {
   "cell_type": "markdown",
   "metadata": {},
   "source": [
    "### D) Compilación\n",
    "\n",
    "Se establece en este paso cómo optimizar el modelo. Se establecen 3 parámetros:\n",
    "\n",
    "- Optimizador: **Adam** (Extensión del descenso de gradiente estocástico).\n",
    "- Función de pérdida: **binary_crossentropy**.\n",
    "- Metrics: **categorical_accuracy**."
   ]
  },
  {
   "cell_type": "markdown",
   "metadata": {},
   "source": [
    "### E) Arquitectura del modelo"
   ]
  },
  {
   "cell_type": "code",
   "execution_count": 37,
   "metadata": {},
   "outputs": [],
   "source": [
    "\n",
    "batch_size = 128\n",
    "epochs = 20\n",
    "\n",
    "#Main CNN model with four Convolution layer & two fully connected layer\n",
    "def baseline_model():\n",
    "    # Initialising the CNN\n",
    "    model = Sequential()\n",
    "\n",
    "    # 1 - Convolution\n",
    "    model.add(Conv2D(64,(3,3), padding='same', input_shape=(48, 48,1)))\n",
    "    model.add(BatchNormalization())\n",
    "    model.add(Activation('relu'))\n",
    "    model.add(MaxPooling2D(pool_size=(2, 2)))\n",
    "    model.add(Dropout(0.25))\n",
    "\n",
    "    # 2nd Convolution layer\n",
    "    model.add(Conv2D(128,(5,5), padding='same'))\n",
    "    model.add(BatchNormalization())\n",
    "    model.add(Activation('relu'))\n",
    "    model.add(MaxPooling2D(pool_size=(2, 2)))\n",
    "    model.add(Dropout(0.25))\n",
    "\n",
    "    # 3rd Convolution layer\n",
    "    model.add(Conv2D(512,(3,3), padding='same'))\n",
    "    model.add(BatchNormalization())\n",
    "    model.add(Activation('relu'))\n",
    "    model.add(MaxPooling2D(pool_size=(2, 2)))\n",
    "    model.add(Dropout(0.25))\n",
    "\n",
    "    # 4th Convolution layer\n",
    "    model.add(Conv2D(512,(3,3),padding='same'))\n",
    "    model.add(BatchNormalization())\n",
    "    model.add(Activation('relu'))\n",
    "    model.add(MaxPooling2D(pool_size=(2, 2)))\n",
    "    model.add(Dropout(0.25))\n",
    "\n",
    "\n",
    "    # Flattening\n",
    "    model.add(Flatten())\n",
    "\n",
    "    # Fully connected layer 1st layer\n",
    "    model.add(Dense(256))\n",
    "    model.add(BatchNormalization())\n",
    "    model.add(Activation('relu'))\n",
    "    model.add(Dropout(0.25))\n",
    "\n",
    "\n",
    "    # Fully connected layer 2nd layer\n",
    "    model.add(Dense(512))\n",
    "    model.add(BatchNormalization())\n",
    "    model.add(Activation('relu'))\n",
    "    model.add(Dropout(0.25))\n",
    "\n",
    "    model.add(Dense(num_class, activation='sigmoid'))\n",
    "\n",
    "    model.compile(optimizer='adam', loss='binary_crossentropy', metrics=[categorical_accuracy])\n",
    "    return model\n"
   ]
  },
  {
   "cell_type": "code",
   "execution_count": 47,
   "metadata": {},
   "outputs": [
    {
     "name": "stdout",
     "output_type": "stream",
     "text": [
      "_________________________________________________________________\n",
      "Layer (type)                 Output Shape              Param #   \n",
      "=================================================================\n",
      "conv2d_4 (Conv2D)            (None, 48, 48, 64)        640       \n",
      "_________________________________________________________________\n",
      "batch_normalization_6 (Batch (None, 48, 48, 64)        256       \n",
      "_________________________________________________________________\n",
      "activation_6 (Activation)    (None, 48, 48, 64)        0         \n",
      "_________________________________________________________________\n",
      "max_pooling2d_4 (MaxPooling2 (None, 24, 24, 64)        0         \n",
      "_________________________________________________________________\n",
      "dropout_6 (Dropout)          (None, 24, 24, 64)        0         \n",
      "_________________________________________________________________\n",
      "conv2d_5 (Conv2D)            (None, 24, 24, 128)       204928    \n",
      "_________________________________________________________________\n",
      "batch_normalization_7 (Batch (None, 24, 24, 128)       512       \n",
      "_________________________________________________________________\n",
      "activation_7 (Activation)    (None, 24, 24, 128)       0         \n",
      "_________________________________________________________________\n",
      "max_pooling2d_5 (MaxPooling2 (None, 12, 12, 128)       0         \n",
      "_________________________________________________________________\n",
      "dropout_7 (Dropout)          (None, 12, 12, 128)       0         \n",
      "_________________________________________________________________\n",
      "conv2d_6 (Conv2D)            (None, 12, 12, 512)       590336    \n",
      "_________________________________________________________________\n",
      "batch_normalization_8 (Batch (None, 12, 12, 512)       2048      \n",
      "_________________________________________________________________\n",
      "activation_8 (Activation)    (None, 12, 12, 512)       0         \n",
      "_________________________________________________________________\n",
      "max_pooling2d_6 (MaxPooling2 (None, 6, 6, 512)         0         \n",
      "_________________________________________________________________\n",
      "dropout_8 (Dropout)          (None, 6, 6, 512)         0         \n",
      "_________________________________________________________________\n",
      "conv2d_7 (Conv2D)            (None, 6, 6, 512)         2359808   \n",
      "_________________________________________________________________\n",
      "batch_normalization_9 (Batch (None, 6, 6, 512)         2048      \n",
      "_________________________________________________________________\n",
      "activation_9 (Activation)    (None, 6, 6, 512)         0         \n",
      "_________________________________________________________________\n",
      "max_pooling2d_7 (MaxPooling2 (None, 3, 3, 512)         0         \n",
      "_________________________________________________________________\n",
      "dropout_9 (Dropout)          (None, 3, 3, 512)         0         \n",
      "_________________________________________________________________\n",
      "flatten_1 (Flatten)          (None, 4608)              0         \n",
      "_________________________________________________________________\n",
      "dense_3 (Dense)              (None, 256)               1179904   \n",
      "_________________________________________________________________\n",
      "batch_normalization_10 (Batc (None, 256)               1024      \n",
      "_________________________________________________________________\n",
      "activation_10 (Activation)   (None, 256)               0         \n",
      "_________________________________________________________________\n",
      "dropout_10 (Dropout)         (None, 256)               0         \n",
      "_________________________________________________________________\n",
      "dense_4 (Dense)              (None, 512)               131584    \n",
      "_________________________________________________________________\n",
      "batch_normalization_11 (Batc (None, 512)               2048      \n",
      "_________________________________________________________________\n",
      "activation_11 (Activation)   (None, 512)               0         \n",
      "_________________________________________________________________\n",
      "dropout_11 (Dropout)         (None, 512)               0         \n",
      "_________________________________________________________________\n",
      "dense_5 (Dense)              (None, 7)                 3591      \n",
      "=================================================================\n",
      "Total params: 4,478,727\n",
      "Trainable params: 4,474,759\n",
      "Non-trainable params: 3,968\n",
      "_________________________________________________________________\n"
     ]
    }
   ],
   "source": [
    "model.summary()"
   ]
  },
  {
   "cell_type": "markdown",
   "metadata": {},
   "source": [
    "### F) Aplicación del modelo"
   ]
  },
  {
   "cell_type": "code",
   "execution_count": 13,
   "metadata": {},
   "outputs": [],
   "source": [
    "# Si estuviera salvado, recuperamos los pesos para evitar re-calcular.\n",
    "def baseline_model_saved():\n",
    "    #load json and create model\n",
    "    json_file = open('model_4layer_2_2_pool.json', 'r')\n",
    "    loaded_model_json = json_file.read()\n",
    "    json_file.close()\n",
    "    model = model_from_json(loaded_model_json)\n",
    "    #load weights from h5 file\n",
    "    model.load_weights(\"model_4layer_2_2_pool.h5\")\n",
    "    model.compile(optimizer='adam', loss='binary_crossentropy', metrics=[categorical_accuracy])\n",
    "    return model\n",
    "\n",
    "is_model_saved = True"
   ]
  },
  {
   "cell_type": "code",
   "execution_count": 39,
   "metadata": {
    "scrolled": true
   },
   "outputs": [
    {
     "name": "stdout",
     "output_type": "stream",
     "text": [
      "Train on 28709 samples, validate on 3589 samples\n",
      "Epoch 1/20\n",
      " - 833s - loss: 0.3856 - categorical_accuracy: 0.3194 - val_loss: 0.4693 - val_categorical_accuracy: 0.2419\n",
      "Epoch 2/20\n",
      " - 827s - loss: 0.3145 - categorical_accuracy: 0.4634 - val_loss: 0.3791 - val_categorical_accuracy: 0.3483\n",
      "Epoch 3/20\n",
      " - 820s - loss: 0.2849 - categorical_accuracy: 0.5250 - val_loss: 0.3139 - val_categorical_accuracy: 0.4347\n",
      "Epoch 4/20\n",
      " - 806s - loss: 0.2683 - categorical_accuracy: 0.5571 - val_loss: 0.2908 - val_categorical_accuracy: 0.5130\n",
      "Epoch 5/20\n",
      " - 807s - loss: 0.2555 - categorical_accuracy: 0.5827 - val_loss: 0.2657 - val_categorical_accuracy: 0.5678\n",
      "Epoch 6/20\n",
      " - 824s - loss: 0.2464 - categorical_accuracy: 0.5990 - val_loss: 0.2635 - val_categorical_accuracy: 0.5651\n",
      "Epoch 7/20\n",
      " - 826s - loss: 0.2349 - categorical_accuracy: 0.6231 - val_loss: 0.2588 - val_categorical_accuracy: 0.5745\n",
      "Epoch 8/20\n",
      " - 820s - loss: 0.2268 - categorical_accuracy: 0.6370 - val_loss: 0.2739 - val_categorical_accuracy: 0.5592\n",
      "Epoch 9/20\n",
      " - 816s - loss: 0.2185 - categorical_accuracy: 0.6546 - val_loss: 0.2484 - val_categorical_accuracy: 0.5952\n",
      "Epoch 10/20\n",
      " - 814s - loss: 0.2088 - categorical_accuracy: 0.6748 - val_loss: 0.2858 - val_categorical_accuracy: 0.5380\n",
      "Epoch 11/20\n",
      " - 823s - loss: 0.1996 - categorical_accuracy: 0.6918 - val_loss: 0.2645 - val_categorical_accuracy: 0.5754\n",
      "Epoch 12/20\n",
      " - 818s - loss: 0.1911 - categorical_accuracy: 0.7065 - val_loss: 0.2540 - val_categorical_accuracy: 0.6066\n",
      "Epoch 13/20\n",
      " - 813s - loss: 0.1802 - categorical_accuracy: 0.7264 - val_loss: 0.2492 - val_categorical_accuracy: 0.5996\n",
      "Epoch 14/20\n",
      " - 814s - loss: 0.1710 - categorical_accuracy: 0.7417 - val_loss: 0.2632 - val_categorical_accuracy: 0.6085\n",
      "Epoch 15/20\n",
      " - 810s - loss: 0.1633 - categorical_accuracy: 0.7549 - val_loss: 0.2602 - val_categorical_accuracy: 0.5952\n",
      "Epoch 16/20\n",
      " - 814s - loss: 0.1532 - categorical_accuracy: 0.7719 - val_loss: 0.2593 - val_categorical_accuracy: 0.5996\n",
      "Epoch 17/20\n",
      " - 819s - loss: 0.1418 - categorical_accuracy: 0.7929 - val_loss: 0.3076 - val_categorical_accuracy: 0.5414\n",
      "Epoch 18/20\n",
      " - 845s - loss: 0.1326 - categorical_accuracy: 0.8076 - val_loss: 0.2900 - val_categorical_accuracy: 0.6116\n",
      "Epoch 19/20\n",
      " - 841s - loss: 0.1252 - categorical_accuracy: 0.8215 - val_loss: 0.2900 - val_categorical_accuracy: 0.6202\n",
      "Epoch 20/20\n",
      " - 823s - loss: 0.1149 - categorical_accuracy: 0.8364 - val_loss: 0.3070 - val_categorical_accuracy: 0.5706\n",
      "Saved model to disk\n"
     ]
    }
   ],
   "source": [
    "# Si esta salvado, se calculan los pesos del modelo y se guardan en formato json\n",
    "if(is_model_saved==False ):\n",
    "    # Train model\n",
    "    model = baseline_model()\n",
    "    # Note : 3259 muestras como datos de validación &   28,709 como muestra de entrenamiento\n",
    "\n",
    "    model.fit(X_train, y_train,\n",
    "              batch_size=batch_size,\n",
    "              epochs=epochs,\n",
    "              verbose=2,\n",
    "              validation_split=0.1111)\n",
    "    model_json = model.to_json()\n",
    "    with open(\"model_4layer_2_2_pool.json\", \"w\") as json_file:\n",
    "        json_file.write(model_json)\n",
    "    # pesos a formato jerárquico HDF5\n",
    "    model.save_weights(\"model_4layer_2_2_pool.h5\")\n",
    "    print(\"Saved model to disk\")\n",
    "else:\n",
    "    # carga del modelo si estuviera salvado\n",
    "    print(\"Load model from disk\")\n",
    "    model = baseline_model_saved()\n"
   ]
  },
  {
   "cell_type": "markdown",
   "metadata": {},
   "source": [
    "### G) Testing"
   ]
  },
  {
   "cell_type": "markdown",
   "metadata": {},
   "source": [
    "Se procede, una vez entrenado el modelo, a evaluar cómo se comportan los datos de test. Comprobamos la eficacia de nuestro modelo. La precisión de nuestro modelo con los datos de test es de 57%. Es una precisión destacable habida cuenta de que las probabilidades de clasificar bien estas emociones aleatoriamente son de 14.29%."
   ]
  },
  {
   "cell_type": "code",
   "execution_count": 52,
   "metadata": {
    "scrolled": true
   },
   "outputs": [
    {
     "name": "stdout",
     "output_type": "stream",
     "text": [
      "_________________________________________________________________\n",
      "Layer (type)                 Output Shape              Param #   \n",
      "=================================================================\n",
      "conv2d_8 (Conv2D)            (None, 48, 48, 64)        640       \n",
      "_________________________________________________________________\n",
      "batch_normalization_12 (Batc (None, 48, 48, 64)        256       \n",
      "_________________________________________________________________\n",
      "activation_12 (Activation)   (None, 48, 48, 64)        0         \n",
      "_________________________________________________________________\n",
      "max_pooling2d_8 (MaxPooling2 (None, 24, 24, 64)        0         \n",
      "_________________________________________________________________\n",
      "dropout_12 (Dropout)         (None, 24, 24, 64)        0         \n",
      "_________________________________________________________________\n",
      "conv2d_9 (Conv2D)            (None, 24, 24, 128)       204928    \n",
      "_________________________________________________________________\n",
      "batch_normalization_13 (Batc (None, 24, 24, 128)       512       \n",
      "_________________________________________________________________\n",
      "activation_13 (Activation)   (None, 24, 24, 128)       0         \n",
      "_________________________________________________________________\n",
      "max_pooling2d_9 (MaxPooling2 (None, 12, 12, 128)       0         \n",
      "_________________________________________________________________\n",
      "dropout_13 (Dropout)         (None, 12, 12, 128)       0         \n",
      "_________________________________________________________________\n",
      "conv2d_10 (Conv2D)           (None, 12, 12, 512)       590336    \n",
      "_________________________________________________________________\n",
      "batch_normalization_14 (Batc (None, 12, 12, 512)       2048      \n",
      "_________________________________________________________________\n",
      "activation_14 (Activation)   (None, 12, 12, 512)       0         \n",
      "_________________________________________________________________\n",
      "max_pooling2d_10 (MaxPooling (None, 6, 6, 512)         0         \n",
      "_________________________________________________________________\n",
      "dropout_14 (Dropout)         (None, 6, 6, 512)         0         \n",
      "_________________________________________________________________\n",
      "conv2d_11 (Conv2D)           (None, 6, 6, 512)         2359808   \n",
      "_________________________________________________________________\n",
      "batch_normalization_15 (Batc (None, 6, 6, 512)         2048      \n",
      "_________________________________________________________________\n",
      "activation_15 (Activation)   (None, 6, 6, 512)         0         \n",
      "_________________________________________________________________\n",
      "max_pooling2d_11 (MaxPooling (None, 3, 3, 512)         0         \n",
      "_________________________________________________________________\n",
      "dropout_15 (Dropout)         (None, 3, 3, 512)         0         \n",
      "_________________________________________________________________\n",
      "flatten_2 (Flatten)          (None, 4608)              0         \n",
      "_________________________________________________________________\n",
      "dense_6 (Dense)              (None, 256)               1179904   \n",
      "_________________________________________________________________\n",
      "batch_normalization_16 (Batc (None, 256)               1024      \n",
      "_________________________________________________________________\n",
      "activation_16 (Activation)   (None, 256)               0         \n",
      "_________________________________________________________________\n",
      "dropout_16 (Dropout)         (None, 256)               0         \n",
      "_________________________________________________________________\n",
      "dense_7 (Dense)              (None, 512)               131584    \n",
      "_________________________________________________________________\n",
      "batch_normalization_17 (Batc (None, 512)               2048      \n",
      "_________________________________________________________________\n",
      "activation_17 (Activation)   (None, 512)               0         \n",
      "_________________________________________________________________\n",
      "dropout_17 (Dropout)         (None, 512)               0         \n",
      "_________________________________________________________________\n",
      "dense_8 (Dense)              (None, 7)                 3591      \n",
      "=================================================================\n",
      "Total params: 4,478,727\n",
      "Trainable params: 4,474,759\n",
      "Non-trainable params: 3,968\n",
      "_________________________________________________________________\n",
      "None\n",
      " Accuracy on Test set :  0.5728615213151296\n"
     ]
    }
   ],
   "source": [
    "# Modelo predice la probabilidad para cada uno de las 7 etiquetas por cada imagen de test.\n",
    "score = model.predict(X_test)\n",
    "print (model.summary())\n",
    "\n",
    "new_X = [ np.argmax(item) for item in score ]\n",
    "y_test2 = [ np.argmax(item) for item in y_test]\n",
    "\n",
    "# Calculating categorical accuracy taking label having highest probability\n",
    "accuracy = [ (x==y) for x,y in zip(new_X,y_test2) ]\n",
    "print(\" Accuracy on Test set : \" , np.mean(accuracy))"
   ]
  },
  {
   "cell_type": "markdown",
   "metadata": {},
   "source": [
    "## 5) RESULTADOS"
   ]
  },
  {
   "cell_type": "markdown",
   "metadata": {},
   "source": [
    "Vamos a comprabar imagenes aleatorias para poder comprobar si el modelo realiza la predicción correctamente. Cada vez que se ejecuta el siguiente chunk de código se puede comprobar una por una, las imágenes, su etiqueta real y el valor arrojado en predicción."
   ]
  },
  {
   "cell_type": "code",
   "execution_count": 74,
   "metadata": {},
   "outputs": [
    {
     "data": {
      "image/png": "[encoded data removed]",
      "text/plain": [
       "<Figure size 432x288 with 1 Axes>"
      ]
     },
     "metadata": {
      "needs_background": "light"
     },
     "output_type": "display_data"
    },
    {
     "name": "stdout",
     "output_type": "stream",
     "text": [
      "> testing image index: 1940\n",
      "> true emotion: sad\n",
      "> predicted emotion: sad\n"
     ]
    }
   ],
   "source": [
    "\n",
    "def get_emotion(ohv):\n",
    "   if ohv.shape[0] == 1:\n",
    "       indx = ohv[0]\n",
    "   else:\n",
    "       indx = np.argmax(ohv)\n",
    "       \n",
    "   if indx == 0:\n",
    "       return 'angry'\n",
    "   elif indx == 1:\n",
    "       return 'disgust'\n",
    "   elif indx == 2:\n",
    "       return 'fear'\n",
    "   elif indx == 3:\n",
    "       return 'happy'\n",
    "   elif indx == 4:\n",
    "       return 'sad'\n",
    "   elif indx == 5:\n",
    "       return 'surprise'\n",
    "   elif indx == 6:\n",
    "       return 'neutral'\n",
    "\n",
    "\n",
    "img_indx = np.uint32(np.random.rand()*(X_test.shape[0] - 1))\n",
    "sample = X_test[img_indx, :]\n",
    "sample = sample.reshape(48, 48)\n",
    "\n",
    "pred_cls = model.predict_classes(sample.reshape(1, 48, 48, 1))\n",
    "\n",
    "plt.imshow(sample, cmap='gray')\n",
    "plt.show()\n",
    "print('> testing image index: %d\\n> true emotion: %s\\n> predicted emotion: %s' % (img_indx, get_emotion(y_test[img_indx, :]), get_emotion(pred_cls)))"
   ]
  },
  {
   "cell_type": "markdown",
   "metadata": {},
   "source": [
    "## 5) REFERENCIAS"
   ]
  },
  {
   "cell_type": "markdown",
   "metadata": {},
   "source": [
    "- \"Adam: A Method for Stochastic Optimization\". Cornell University.\n",
    "\n",
    "- \"Deep Learning with Python\". François Chollet\n",
    "\n",
    "- Challenges in Representation Learning: Facial Expression Recognition Challenge. Kaggle. 2013\n",
    "\n",
    "- Keras: https://keras.io/\n",
    "\n",
    "- TensorFlow: https://www.tensorflow.org/\n",
    "\n",
    "- Introduction to Deep Learning: https://pythonprogramming.net/introduction-deep-learning-python-tensorflow-keras/"
   ]
  }
 ],
 "metadata": {
  "kernelspec": {
   "display_name": "Python 3",
   "language": "python",
   "name": "python3"
  },
  "language_info": {
   "codemirror_mode": {
    "name": "ipython",
    "version": 3
   },
   "file_extension": ".py",
   "mimetype": "text/x-python",
   "name": "python",
   "nbconvert_exporter": "python",
   "pygments_lexer": "ipython3",
   "version": "3.6.8"
  }
 },
 "nbformat": 4,
 "nbformat_minor": 2
}
